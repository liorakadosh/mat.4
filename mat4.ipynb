{
 "cells": [
  {
   "cell_type": "markdown",
   "metadata": {},
   "source": [
    "<h1>matala 4 </h1>"
   ]
  },
  {
   "cell_type": "markdown",
   "metadata": {},
   "source": [
    "<h2>import text file</h2>"
   ]
  },
  {
   "cell_type": "code",
   "execution_count": null,
   "metadata": {},
   "outputs": [],
   "source": [
    "dests='C:/Users/liora/python_code/mat_4/dests.txt'\n",
    "file=open(dests, 'r', encoding=('utf-8'))\n",
    "list_city=file.readlines()\n",
    "file.close\n",
    "\n",
    "import json\n",
    "import requests\n",
    "import pprint \n",
    "import time\n",
    "\n",
    "api_code=input(\"please enter your API key\")"
   ]
  },
  {
   "cell_type": "markdown",
   "metadata": {},
   "source": [
    "<h2>check if the cities are coorect and creat a dictionary</h2>"
   ]
  },
  {
   "cell_type": "code",
   "execution_count": 141,
   "metadata": {},
   "outputs": [
    {
     "name": "stdout",
     "output_type": "stream",
     "text": [
      "can't find the city איסטנבול please check\n",
      "can't find the city אמסטרדם please check\n",
      "can't find the city ולטה please check\n",
      "can't find the city בזל please check\n",
      "{}\n"
     ]
    }
   ],
   "source": [
    "##distancematrix\n",
    "dict_total=dict()\n",
    "for city in list_city:\n",
    "    try:\n",
    "        city=city.strip()\n",
    "        url='https://maps.googleapis.com/maps/api/distancematrix/json?units=metric&origins=תל אביב&destinations=%s&key=%s' % (city,api_code)\n",
    "        response = requests.get(url).json()\n",
    "        distance=response['rows'][0]['elements'][0]['distance']['text']\n",
    "        duration=time.strftime(\"%H:%M\" ,time.gmtime(response[\"rows\"][0][\"elements\"][0][\"duration\"][\"value\"]))\n",
    "        destination=response['destination_addresses'][0]\n",
    "\n",
    "    ##geocode \n",
    "        url2=\"https://maps.googleapis.com/maps/api/geocode/json?address=%s&key=%s\" % (destination,api_code)\n",
    "        response2 = requests.get(url2).json()\n",
    "        latitude=response2['results'][0]['geometry']['location']['lat']\n",
    "        longitude=response2['results'][0]['geometry']['location']['lng']\n",
    "\n",
    "    ##creat dictionaries\n",
    "        tuple_info=(\"distance: \"+distance,\"duration: \"+duration+ \" hours\",\"lng: \"+str(longitude),\"lat: \"+str(latitude))\n",
    "        dict_total[destination]=tuple_info\n",
    "    except:\n",
    "        print(\"can't find the city \"+ city+ \" please check\")\n",
    "pprint.pprint(dict_total)"
   ]
  },
  {
   "cell_type": "markdown",
   "metadata": {},
   "source": [
    "<h2>find 3 destination most far tel-aviv</h2>"
   ]
  },
  {
   "cell_type": "code",
   "execution_count": 139,
   "metadata": {},
   "outputs": [
    {
     "name": "stdout",
     "output_type": "stream",
     "text": [
      "the 3 most far destination from TLV and there distance are : \n",
      "\n",
      "Amsterdam, Netherlands: 4528.0 km\n",
      "Basel, Switzerland: 4093.0 km\n",
      "Valletta, Malta: 3795.0 km\n"
     ]
    }
   ],
   "source": [
    "distance_in_km=list()\n",
    "for key in dict_total:\n",
    "    help1=dict_total[key][0].find(\" \")+1  \n",
    "    help2=dict_total[key][0].find(\" \",help1)\n",
    "    float_distance=dict_total[key][0][help1:help2]\n",
    "    if \",\" in int_distance:\n",
    "        float_distance=float(float_distance.replace(\",\" , \"\"))\n",
    "    else:\n",
    "        float_distance=float(float_distance)\n",
    "    tuple_total=(key,float_distance)\n",
    "    distance_in_km.append(tuple_total)\n",
    "distance_in_km.sort(key=lambda x:x[1],reverse=True)\n",
    "print('the 3 most far destination from TLV and there distance are : \\n')\n",
    "for i in range(3):\n",
    "    print(distance_in_km[i][0] +': ' +str(distance_in_km[i][1])+' km' )"
   ]
  }
 ],
 "metadata": {
  "kernelspec": {
   "display_name": "Python 3",
   "language": "python",
   "name": "python3"
  },
  "language_info": {
   "codemirror_mode": {
    "name": "ipython",
    "version": 3
   },
   "file_extension": ".py",
   "mimetype": "text/x-python",
   "name": "python",
   "nbconvert_exporter": "python",
   "pygments_lexer": "ipython3",
   "version": "3.8.5"
  }
 },
 "nbformat": 4,
 "nbformat_minor": 4
}
